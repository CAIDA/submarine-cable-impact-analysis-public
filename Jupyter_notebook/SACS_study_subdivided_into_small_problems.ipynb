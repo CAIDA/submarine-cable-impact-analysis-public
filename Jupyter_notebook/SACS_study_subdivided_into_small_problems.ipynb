{
 "cells": [
  {
   "cell_type": "markdown",
   "metadata": {},
   "source": [
    "This Jupyter Notebook presents the code for solving some small problems, which we enumerated from the paper https://www.caida.org/publications/papers/2020/unintended_consequences/.\n",
    "\n",
    "A- running traceroutes with Ark (Vela API) or RIPE Atlas (Atlas API) for finding out candidate paths\n",
    "    1. How do you find the list of Ark/RIPE Atlas monitors in a country and their respective informations?\n",
    "       how do you select XX monitors in a region?"
   ]
  },
  {
   "cell_type": "code",
   "execution_count": 41,
   "metadata": {},
   "outputs": [],
   "source": [
    "#!/usr/bin/env python\n",
    "## Importing packages\n",
    "import os, time, sys, random, json, datetime, time\n",
    "import requests\n",
    "try:\n",
    "    import urllib2\n",
    "except:\n",
    "    import urllib.request as urllib2"
   ]
  },
  {
   "cell_type": "code",
   "execution_count": 105,
   "metadata": {},
   "outputs": [],
   "source": [
    "def Print_dict(dict_inp, infos):\n",
    "    \"\"\" This function prints the content of a dictionary\"\"\"\n",
    "    print(\"\\n\", \"\\t\".join(infos))\n",
    "    for key in dict_inp:\n",
    "        print (\"\\t\".join(dict_inp[key]))\n",
    "    print (\"Total number of entries = \", len(dict_inp.keys()))\n",
    "\n",
    "def detect_list_RIPE_Atlas_probes (CC_user):\n",
    "    \"\"\" This function detects the list of ACTIVE RIPE Atlas probes in a country\"\"\"\n",
    "    print ('Country selected = ', CC_user)\n",
    "    ## Fetching the data using the RIPE Atlas API from first page\n",
    "    ## Template URL is /api/v2/probes/?country_code=US&limit=100&page=2\n",
    "    page = 1\n",
    "    Dict_probes = {}\n",
    "    url_Country = 'https://atlas.ripe.net/api/v2/probes/?limit=100&country_code=' + CC_user + '&page=' + str(page)\n",
    "    \n",
    "    r = requests.get(url_Country)\n",
    "    code_resp = r.status_code\n",
    "    while code_resp == 200:\n",
    "        \n",
    "        print ('url_CountryA = ', url_Country)\n",
    "        ## Fetching URL content\n",
    "        data2_loaded = requests.get(url_Country).json()\n",
    "        ## Dump the retrieved data into a file and load it into a dictionary\n",
    "        Output_folder =  \"Measurements_infos/\"\n",
    "        ## Creating List Measurements Folder\n",
    "        if not os.path.exists(Output_folder) :\n",
    "            os.mkdir(Output_folder)\n",
    "        i= -1\n",
    "        while i+1< len(data2_loaded['results']):\n",
    "            i+=1\n",
    "            if data2_loaded['results'][i]['status']['name'] == 'Connected' and data2_loaded['results'][i]['address_v4'] != None:\n",
    "                Dict_probes[str(data2_loaded['results'][i]['id'])] = [str(data2_loaded['results'][i]['id']), str(data2_loaded['results'][i]['country_code']), str(data2_loaded['results'][i]['geometry']['coordinates'][0]), str(data2_loaded['results'][i]['geometry']['coordinates'][1]), str(data2_loaded['results'][i]['address_v4']), str(data2_loaded['results'][i]['asn_v4'])]\n",
    "        \n",
    "        ## Update page and the url and check whether the page is valid\n",
    "        page+=1\n",
    "        url_Country = 'https://atlas.ripe.net/api/v2/probes/?limit=100&country_code=' + CC_user + '&page=' + str(page)\n",
    "        r = requests.get(url_Country)\n",
    "        code_resp = r.status_code\n",
    "        \n",
    "    Print_dict(Dict_probes, ['ProbeID', 'CC', 'Lat', 'Lon', 'v4_address', 'v4_ASN'])\n",
    "    return Dict_probes"
   ]
  },
  {
   "cell_type": "code",
   "execution_count": null,
   "metadata": {},
   "outputs": [
    {
     "name": "stdout",
     "output_type": "stream",
     "text": [
      "Country selected =  US\n",
      "url_CountryA =  https://atlas.ripe.net/api/v2/probes/?limit=100&country_code=US&page=1\n",
      "url_CountryA =  https://atlas.ripe.net/api/v2/probes/?limit=100&country_code=US&page=2\n",
      "url_CountryA =  https://atlas.ripe.net/api/v2/probes/?limit=100&country_code=US&page=3\n",
      "url_CountryA =  https://atlas.ripe.net/api/v2/probes/?limit=100&country_code=US&page=4\n",
      "url_CountryA =  https://atlas.ripe.net/api/v2/probes/?limit=100&country_code=US&page=5\n",
      "url_CountryA =  https://atlas.ripe.net/api/v2/probes/?limit=100&country_code=US&page=6\n",
      "url_CountryA =  https://atlas.ripe.net/api/v2/probes/?limit=100&country_code=US&page=7\n",
      "url_CountryA =  https://atlas.ripe.net/api/v2/probes/?limit=100&country_code=US&page=8\n",
      "url_CountryA =  https://atlas.ripe.net/api/v2/probes/?limit=100&country_code=US&page=9\n",
      "url_CountryA =  https://atlas.ripe.net/api/v2/probes/?limit=100&country_code=US&page=10\n",
      "url_CountryA =  https://atlas.ripe.net/api/v2/probes/?limit=100&country_code=US&page=11\n",
      "url_CountryA =  https://atlas.ripe.net/api/v2/probes/?limit=100&country_code=US&page=12\n",
      "url_CountryA =  https://atlas.ripe.net/api/v2/probes/?limit=100&country_code=US&page=13\n",
      "url_CountryA =  https://atlas.ripe.net/api/v2/probes/?limit=100&country_code=US&page=14\n",
      "url_CountryA =  https://atlas.ripe.net/api/v2/probes/?limit=100&country_code=US&page=15\n",
      "url_CountryA =  https://atlas.ripe.net/api/v2/probes/?limit=100&country_code=US&page=16\n",
      "url_CountryA =  https://atlas.ripe.net/api/v2/probes/?limit=100&country_code=US&page=17\n",
      "url_CountryA =  https://atlas.ripe.net/api/v2/probes/?limit=100&country_code=US&page=18\n",
      "url_CountryA =  https://atlas.ripe.net/api/v2/probes/?limit=100&country_code=US&page=19\n",
      "url_CountryA =  https://atlas.ripe.net/api/v2/probes/?limit=100&country_code=US&page=20\n"
     ]
    }
   ],
   "source": [
    "Dict_probes_CC = detect_list_RIPE_Atlas_probes ('US')"
   ]
  },
  {
   "cell_type": "code",
   "execution_count": null,
   "metadata": {},
   "outputs": [],
   "source": [
    "def detect_list_Ark_probes (CC_user):\n",
    "    \"\"\" This function detects the list of ACTIVE RIPE Atlas probes in a country\"\"\"\n",
    "    print ('Country selected = ', CC_user)"
   ]
  },
  {
   "cell_type": "markdown",
   "metadata": {},
   "source": []
  }
 ],
 "metadata": {
  "kernelspec": {
   "display_name": "Python 3",
   "language": "python",
   "name": "python3"
  },
  "language_info": {
   "codemirror_mode": {
    "name": "ipython",
    "version": 3
   },
   "file_extension": ".py",
   "mimetype": "text/x-python",
   "name": "python",
   "nbconvert_exporter": "python",
   "pygments_lexer": "ipython3",
   "version": "3.7.1"
  }
 },
 "nbformat": 4,
 "nbformat_minor": 2
}
